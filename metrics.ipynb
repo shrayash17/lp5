{
  "nbformat": 4,
  "nbformat_minor": 0,
  "metadata": {
    "colab": {
      "provenance": []
    },
    "kernelspec": {
      "name": "python3",
      "display_name": "Python 3"
    },
    "language_info": {
      "name": "python"
    }
  },
  "cells": [
    {
      "cell_type": "code",
      "execution_count": null,
      "metadata": {
        "id": "oRI8-_aHtoxX"
      },
      "outputs": [],
      "source": [
        "from sklearn.metrics import mean_squared_error, mean_absolute_error, r2_score\n",
        "import numpy as np\n",
        "\n",
        "# Get Model Predictions\n",
        "y_pred = model.predict(X_test)  # Predict on test data\n",
        "\n",
        "# Compute Metrics\n",
        "mse = mean_squared_error(y_test, y_pred)\n",
        "rmse = np.sqrt(mse)  # Square root of MSE\n",
        "mae = mean_absolute_error(y_test, y_pred)\n",
        "r2 = r2_score(y_test, y_pred)\n",
        "\n",
        "# Print Model Performance\n",
        "print(f\"Model Evaluation Metrics:\")\n",
        "print(f\"✅ Mean Squared Error (MSE): {mse:.4f}\")\n",
        "print(f\"✅ Root Mean Squared Error (RMSE): {rmse:.4f}\")\n",
        "print(f\"✅ Mean Absolute Error (MAE): {mae:.4f}\")\n",
        "print(f\"✅ R² Score: {r2:.4f}\")  # Higher is better (closer to 1.0)"
      ]
    }
  ]
}